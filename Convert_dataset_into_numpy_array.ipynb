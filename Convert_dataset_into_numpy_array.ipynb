{
  "nbformat": 4,
  "nbformat_minor": 0,
  "metadata": {
    "colab": {
      "provenance": [],
      "mount_file_id": "1eAVDYpUKL25anuMaO4VWw7vTNN1P7yCC",
      "authorship_tag": "ABX9TyMwb391gDursvGB9w12LpwE",
      "include_colab_link": true
    },
    "kernelspec": {
      "name": "python3",
      "display_name": "Python 3"
    },
    "language_info": {
      "name": "python"
    }
  },
  "cells": [
    {
      "cell_type": "markdown",
      "metadata": {
        "id": "view-in-github",
        "colab_type": "text"
      },
      "source": [
        "<a href=\"https://colab.research.google.com/github/armanjoy09/Image-Processing-Lab/blob/main/Convert_dataset_into_numpy_array.ipynb\" target=\"_parent\"><img src=\"https://colab.research.google.com/assets/colab-badge.svg\" alt=\"Open In Colab\"/></a>"
      ]
    },
    {
      "cell_type": "code",
      "execution_count": 1,
      "metadata": {
        "id": "tAV09fK75YO4"
      },
      "outputs": [],
      "source": [
        "import os\n",
        "import numpy as np\n",
        "from tensorflow.keras.preprocessing import image\n"
      ]
    },
    {
      "cell_type": "code",
      "source": [
        "# Path to dataset\n",
        "dataset_path = \"/content/drive/MyDrive/CT_Dataset\"\n",
        "classes = ['Bengin cases', 'Malignant cases', 'Normal cases']"
      ],
      "metadata": {
        "id": "InAioagM5c-z"
      },
      "execution_count": 2,
      "outputs": []
    },
    {
      "cell_type": "code",
      "source": [
        "# resize size\n",
        "\n",
        "\n",
        "IMG_SIZE = (128, 128)\n",
        "data = []\n",
        "labels = []\n"
      ],
      "metadata": {
        "id": "B4lGtsCL5mX8"
      },
      "execution_count": 3,
      "outputs": []
    },
    {
      "cell_type": "code",
      "source": [
        "for idx, class_name in enumerate(classes):\n",
        "    class_folder = os.path.join(dataset_path, class_name)\n",
        "    for img_name in os.listdir(class_folder):\n",
        "        img_path = os.path.join(class_folder, img_name)\n",
        "\n",
        "\n",
        "        img = image.load_img(img_path, target_size=IMG_SIZE)   # load & resize\n",
        "\n",
        "        img_array = image.img_to_array(img) / 255.0            # to numpy + normalize\n",
        "        data.append(img_array)\n",
        "        labels.append(idx)\n"
      ],
      "metadata": {
        "id": "gJX7PgKh5t35"
      },
      "execution_count": 4,
      "outputs": []
    },
    {
      "cell_type": "code",
      "source": [
        "# Convert to numpy arrays\n",
        "X = np.array(data)\n",
        "y = np.array(labels)\n",
        "\n",
        "print(\"X shape:\", X.shape)\n",
        "print(\"y shape:\", y.shape)"
      ],
      "metadata": {
        "colab": {
          "base_uri": "https://localhost:8080/"
        },
        "id": "7k7r1E2T5uk9",
        "outputId": "a2cdcb41-c0cf-4114-f59c-a852f406f3ea"
      },
      "execution_count": 5,
      "outputs": [
        {
          "output_type": "stream",
          "name": "stdout",
          "text": [
            "X shape: (453, 128, 128, 3)\n",
            "y shape: (453,)\n"
          ]
        }
      ]
    },
    {
      "cell_type": "code",
      "source": [
        "print(X[0])        # See pixel values of first image"
      ],
      "metadata": {
        "colab": {
          "base_uri": "https://localhost:8080/"
        },
        "id": "XZv2008f52M6",
        "outputId": "639ffc2b-736d-4bff-fcee-52109d685ffe"
      },
      "execution_count": 6,
      "outputs": [
        {
          "output_type": "stream",
          "name": "stdout",
          "text": [
            "[[[0.14901961 0.14901961 0.14901961]\n",
            "  [0.14901961 0.14901961 0.14901961]\n",
            "  [0.14901961 0.14901961 0.14901961]\n",
            "  ...\n",
            "  [0.14901961 0.14901961 0.14901961]\n",
            "  [0.14901961 0.14901961 0.14901961]\n",
            "  [0.14901961 0.14901961 0.14901961]]\n",
            "\n",
            " [[0.14901961 0.14901961 0.14901961]\n",
            "  [0.14901961 0.14901961 0.14901961]\n",
            "  [0.14901961 0.14901961 0.14901961]\n",
            "  ...\n",
            "  [0.14901961 0.14901961 0.14901961]\n",
            "  [0.14901961 0.14901961 0.14901961]\n",
            "  [0.14901961 0.14901961 0.14901961]]\n",
            "\n",
            " [[0.14901961 0.14901961 0.14901961]\n",
            "  [0.14901961 0.14901961 0.14901961]\n",
            "  [0.14901961 0.14901961 0.14901961]\n",
            "  ...\n",
            "  [0.14901961 0.14901961 0.14901961]\n",
            "  [0.14901961 0.14901961 0.14901961]\n",
            "  [0.14901961 0.14901961 0.14901961]]\n",
            "\n",
            " ...\n",
            "\n",
            " [[0.14901961 0.14901961 0.14901961]\n",
            "  [0.14901961 0.14901961 0.14901961]\n",
            "  [0.14901961 0.14901961 0.14901961]\n",
            "  ...\n",
            "  [0.14901961 0.14901961 0.14901961]\n",
            "  [0.14901961 0.14901961 0.14901961]\n",
            "  [0.14901961 0.14901961 0.14901961]]\n",
            "\n",
            " [[0.14901961 0.14901961 0.14901961]\n",
            "  [0.14901961 0.14901961 0.14901961]\n",
            "  [0.14901961 0.14901961 0.14901961]\n",
            "  ...\n",
            "  [0.14901961 0.14901961 0.14901961]\n",
            "  [0.14901961 0.14901961 0.14901961]\n",
            "  [0.14901961 0.14901961 0.14901961]]\n",
            "\n",
            " [[0.14901961 0.14901961 0.14901961]\n",
            "  [0.14901961 0.14901961 0.14901961]\n",
            "  [0.14901961 0.14901961 0.14901961]\n",
            "  ...\n",
            "  [0.14901961 0.14901961 0.14901961]\n",
            "  [0.14901961 0.14901961 0.14901961]\n",
            "  [0.14901961 0.14901961 0.14901961]]]\n"
          ]
        }
      ]
    },
    {
      "cell_type": "code",
      "source": [],
      "metadata": {
        "id": "o8VtRcql526n"
      },
      "execution_count": null,
      "outputs": []
    }
  ]
}